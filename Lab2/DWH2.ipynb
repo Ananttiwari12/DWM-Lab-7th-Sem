{
 "cells": [
  {
   "cell_type": "code",
   "execution_count": 23,
   "metadata": {},
   "outputs": [],
   "source": [
    "import numpy as np\n",
    "import pandas as pd"
   ]
  },
  {
   "cell_type": "markdown",
   "metadata": {},
   "source": [
    "### Dataset: SOCR-HeightWeight"
   ]
  },
  {
   "cell_type": "code",
   "execution_count": 24,
   "metadata": {},
   "outputs": [],
   "source": [
    "df=pd.read_csv('SOCR-HeightWeight.csv')"
   ]
  },
  {
   "cell_type": "code",
   "execution_count": 25,
   "metadata": {},
   "outputs": [
    {
     "data": {
      "text/html": [
       "<div>\n",
       "<style scoped>\n",
       "    .dataframe tbody tr th:only-of-type {\n",
       "        vertical-align: middle;\n",
       "    }\n",
       "\n",
       "    .dataframe tbody tr th {\n",
       "        vertical-align: top;\n",
       "    }\n",
       "\n",
       "    .dataframe thead th {\n",
       "        text-align: right;\n",
       "    }\n",
       "</style>\n",
       "<table border=\"1\" class=\"dataframe\">\n",
       "  <thead>\n",
       "    <tr style=\"text-align: right;\">\n",
       "      <th></th>\n",
       "      <th>Index</th>\n",
       "      <th>Height(Inches)</th>\n",
       "      <th>Weight(Pounds)</th>\n",
       "    </tr>\n",
       "  </thead>\n",
       "  <tbody>\n",
       "    <tr>\n",
       "      <th>0</th>\n",
       "      <td>1</td>\n",
       "      <td>65.78331</td>\n",
       "      <td>112.9925</td>\n",
       "    </tr>\n",
       "    <tr>\n",
       "      <th>1</th>\n",
       "      <td>2</td>\n",
       "      <td>71.51521</td>\n",
       "      <td>136.4873</td>\n",
       "    </tr>\n",
       "    <tr>\n",
       "      <th>2</th>\n",
       "      <td>3</td>\n",
       "      <td>69.39874</td>\n",
       "      <td>153.0269</td>\n",
       "    </tr>\n",
       "    <tr>\n",
       "      <th>3</th>\n",
       "      <td>4</td>\n",
       "      <td>68.21660</td>\n",
       "      <td>142.3354</td>\n",
       "    </tr>\n",
       "    <tr>\n",
       "      <th>4</th>\n",
       "      <td>5</td>\n",
       "      <td>67.78781</td>\n",
       "      <td>144.2971</td>\n",
       "    </tr>\n",
       "    <tr>\n",
       "      <th>...</th>\n",
       "      <td>...</td>\n",
       "      <td>...</td>\n",
       "      <td>...</td>\n",
       "    </tr>\n",
       "    <tr>\n",
       "      <th>24995</th>\n",
       "      <td>24996</td>\n",
       "      <td>69.50215</td>\n",
       "      <td>118.0312</td>\n",
       "    </tr>\n",
       "    <tr>\n",
       "      <th>24996</th>\n",
       "      <td>24997</td>\n",
       "      <td>64.54826</td>\n",
       "      <td>120.1932</td>\n",
       "    </tr>\n",
       "    <tr>\n",
       "      <th>24997</th>\n",
       "      <td>24998</td>\n",
       "      <td>64.69855</td>\n",
       "      <td>118.2655</td>\n",
       "    </tr>\n",
       "    <tr>\n",
       "      <th>24998</th>\n",
       "      <td>24999</td>\n",
       "      <td>67.52918</td>\n",
       "      <td>132.2682</td>\n",
       "    </tr>\n",
       "    <tr>\n",
       "      <th>24999</th>\n",
       "      <td>25000</td>\n",
       "      <td>68.87761</td>\n",
       "      <td>124.8742</td>\n",
       "    </tr>\n",
       "  </tbody>\n",
       "</table>\n",
       "<p>25000 rows × 3 columns</p>\n",
       "</div>"
      ],
      "text/plain": [
       "       Index  Height(Inches)  Weight(Pounds)\n",
       "0          1        65.78331        112.9925\n",
       "1          2        71.51521        136.4873\n",
       "2          3        69.39874        153.0269\n",
       "3          4        68.21660        142.3354\n",
       "4          5        67.78781        144.2971\n",
       "...      ...             ...             ...\n",
       "24995  24996        69.50215        118.0312\n",
       "24996  24997        64.54826        120.1932\n",
       "24997  24998        64.69855        118.2655\n",
       "24998  24999        67.52918        132.2682\n",
       "24999  25000        68.87761        124.8742\n",
       "\n",
       "[25000 rows x 3 columns]"
      ]
     },
     "execution_count": 25,
     "metadata": {},
     "output_type": "execute_result"
    }
   ],
   "source": [
    "df"
   ]
  },
  {
   "cell_type": "code",
   "execution_count": 26,
   "metadata": {},
   "outputs": [],
   "source": [
    "df_normalized= df.copy()"
   ]
  },
  {
   "cell_type": "code",
   "execution_count": 9,
   "metadata": {},
   "outputs": [],
   "source": [
    "mx_height= max(df_normalized[\"Height(Inches)\"].values)\n",
    "mn_height=min(df_normalized[\"Height(Inches)\"].values)"
   ]
  },
  {
   "cell_type": "code",
   "execution_count": 10,
   "metadata": {},
   "outputs": [],
   "source": [
    "mx_weight=max(df_normalized[\"Weight(Pounds)\"])\n",
    "mn_weight=min(df_normalized[\"Weight(Pounds)\"])"
   ]
  },
  {
   "cell_type": "code",
   "execution_count": 11,
   "metadata": {},
   "outputs": [
    {
     "name": "stdout",
     "output_type": "stream",
     "text": [
      "75.1528 60.27836\n",
      "170.924 78.01476\n"
     ]
    }
   ],
   "source": [
    "print(mx_height, mn_height)\n",
    "print(mx_weight, mn_weight)"
   ]
  },
  {
   "cell_type": "markdown",
   "metadata": {},
   "source": [
    "#### Min-max: 0/1 Normalization height and weight"
   ]
  },
  {
   "cell_type": "code",
   "execution_count": null,
   "metadata": {},
   "outputs": [],
   "source": [
    "for i in range(len(df_normalized[\"Height(Inches)\"])):\n",
    "    val=df_normalized[\"Height(Inches)\"][i]\n",
    "    val = (val-mn_height)/(mx_height-mn_height)\n",
    "    df_normalized[\"Height(Inches)\"][i]=val\n",
    "    \n",
    "for i in range(len(df_normalized[\"Weight(Pounds)\"])):\n",
    "    val=df_normalized[\"Weight(Pounds)\"][i]\n",
    "    val = (val-mn_weight)/(mx_weight-mn_weight)\n",
    "    \n",
    "    df_normalized[\"Weight(Pounds)\"][i]=val\n",
    "    "
   ]
  },
  {
   "cell_type": "code",
   "execution_count": 28,
   "metadata": {},
   "outputs": [
    {
     "name": "stdout",
     "output_type": "stream",
     "text": [
      "       Index  Height(Inches)  Weight(Pounds)\n",
      "0          1        0.370095        0.376472\n",
      "1          2        0.755447        0.629351\n",
      "2          3        0.613158        0.807370\n",
      "3          4        0.533683        0.692295\n",
      "4          5        0.504856        0.713410\n",
      "...      ...             ...             ...\n",
      "24995  24996        0.620110        0.430705\n",
      "24996  24997        0.287063        0.453975\n",
      "24997  24998        0.297167        0.433226\n",
      "24998  24999        0.487468        0.583940\n",
      "24999  25000        0.578123        0.504357\n",
      "\n",
      "[25000 rows x 3 columns]\n"
     ]
    }
   ],
   "source": [
    "print(df_normalized)"
   ]
  },
  {
   "cell_type": "markdown",
   "metadata": {},
   "source": [
    "### Min-Max Normalization: Boundary(10,20)"
   ]
  },
  {
   "cell_type": "code",
   "execution_count": null,
   "metadata": {},
   "outputs": [],
   "source": [
    "df_normalized_range= df.copy()\n",
    "min_range=10\n",
    "max_range=20\n",
    "for i in range(len(df_normalized_range[\"Height(Inches)\"])):\n",
    "    val=df_normalized_range[\"Height(Inches)\"][i]\n",
    "    val = ((val-mn_height)*(max_range-min_range))/(mx_height-mn_height)+min_range\n",
    "    df_normalized_range[\"Height(Inches)\"][i]=val\n",
    "    \n",
    "for i in range(len(df_normalized_range[\"Weight(Pounds)\"])):\n",
    "    val=df_normalized_range[\"Weight(Pounds)\"][i]\n",
    "    val = ((val-mn_weight)*(max_range-min_range))/(mx_weight-mn_weight)+min_range\n",
    "    \n",
    "    df_normalized_range[\"Weight(Pounds)\"][i]=val\n",
    "    \n"
   ]
  },
  {
   "cell_type": "code",
   "execution_count": 30,
   "metadata": {},
   "outputs": [
    {
     "data": {
      "text/html": [
       "<div>\n",
       "<style scoped>\n",
       "    .dataframe tbody tr th:only-of-type {\n",
       "        vertical-align: middle;\n",
       "    }\n",
       "\n",
       "    .dataframe tbody tr th {\n",
       "        vertical-align: top;\n",
       "    }\n",
       "\n",
       "    .dataframe thead th {\n",
       "        text-align: right;\n",
       "    }\n",
       "</style>\n",
       "<table border=\"1\" class=\"dataframe\">\n",
       "  <thead>\n",
       "    <tr style=\"text-align: right;\">\n",
       "      <th></th>\n",
       "      <th>Index</th>\n",
       "      <th>Height(Inches)</th>\n",
       "      <th>Weight(Pounds)</th>\n",
       "    </tr>\n",
       "  </thead>\n",
       "  <tbody>\n",
       "    <tr>\n",
       "      <th>0</th>\n",
       "      <td>1</td>\n",
       "      <td>13.700946</td>\n",
       "      <td>13.764721</td>\n",
       "    </tr>\n",
       "    <tr>\n",
       "      <th>1</th>\n",
       "      <td>2</td>\n",
       "      <td>17.554469</td>\n",
       "      <td>16.293512</td>\n",
       "    </tr>\n",
       "    <tr>\n",
       "      <th>2</th>\n",
       "      <td>3</td>\n",
       "      <td>16.131579</td>\n",
       "      <td>18.073701</td>\n",
       "    </tr>\n",
       "    <tr>\n",
       "      <th>3</th>\n",
       "      <td>4</td>\n",
       "      <td>15.336833</td>\n",
       "      <td>16.922954</td>\n",
       "    </tr>\n",
       "    <tr>\n",
       "      <th>4</th>\n",
       "      <td>5</td>\n",
       "      <td>15.048560</td>\n",
       "      <td>17.134096</td>\n",
       "    </tr>\n",
       "    <tr>\n",
       "      <th>...</th>\n",
       "      <td>...</td>\n",
       "      <td>...</td>\n",
       "      <td>...</td>\n",
       "    </tr>\n",
       "    <tr>\n",
       "      <th>24995</th>\n",
       "      <td>24996</td>\n",
       "      <td>16.201101</td>\n",
       "      <td>14.307046</td>\n",
       "    </tr>\n",
       "    <tr>\n",
       "      <th>24996</th>\n",
       "      <td>24997</td>\n",
       "      <td>12.870629</td>\n",
       "      <td>14.539747</td>\n",
       "    </tr>\n",
       "    <tr>\n",
       "      <th>24997</th>\n",
       "      <td>24998</td>\n",
       "      <td>12.971668</td>\n",
       "      <td>14.332264</td>\n",
       "    </tr>\n",
       "    <tr>\n",
       "      <th>24998</th>\n",
       "      <td>24999</td>\n",
       "      <td>14.874684</td>\n",
       "      <td>15.839402</td>\n",
       "    </tr>\n",
       "    <tr>\n",
       "      <th>24999</th>\n",
       "      <td>25000</td>\n",
       "      <td>15.781226</td>\n",
       "      <td>15.043572</td>\n",
       "    </tr>\n",
       "  </tbody>\n",
       "</table>\n",
       "<p>25000 rows × 3 columns</p>\n",
       "</div>"
      ],
      "text/plain": [
       "       Index  Height(Inches)  Weight(Pounds)\n",
       "0          1       13.700946       13.764721\n",
       "1          2       17.554469       16.293512\n",
       "2          3       16.131579       18.073701\n",
       "3          4       15.336833       16.922954\n",
       "4          5       15.048560       17.134096\n",
       "...      ...             ...             ...\n",
       "24995  24996       16.201101       14.307046\n",
       "24996  24997       12.870629       14.539747\n",
       "24997  24998       12.971668       14.332264\n",
       "24998  24999       14.874684       15.839402\n",
       "24999  25000       15.781226       15.043572\n",
       "\n",
       "[25000 rows x 3 columns]"
      ]
     },
     "execution_count": 30,
     "metadata": {},
     "output_type": "execute_result"
    }
   ],
   "source": [
    "df_normalized_range"
   ]
  },
  {
   "cell_type": "markdown",
   "metadata": {},
   "source": [
    "## Dataset: Dataset_Normaization"
   ]
  },
  {
   "cell_type": "code",
   "execution_count": 55,
   "metadata": {},
   "outputs": [
    {
     "data": {
      "text/html": [
       "<div>\n",
       "<style scoped>\n",
       "    .dataframe tbody tr th:only-of-type {\n",
       "        vertical-align: middle;\n",
       "    }\n",
       "\n",
       "    .dataframe tbody tr th {\n",
       "        vertical-align: top;\n",
       "    }\n",
       "\n",
       "    .dataframe thead th {\n",
       "        text-align: right;\n",
       "    }\n",
       "</style>\n",
       "<table border=\"1\" class=\"dataframe\">\n",
       "  <thead>\n",
       "    <tr style=\"text-align: right;\">\n",
       "      <th></th>\n",
       "      <th>CustomerID</th>\n",
       "      <th>Age</th>\n",
       "      <th>Income</th>\n",
       "      <th>PurchaseAmount</th>\n",
       "    </tr>\n",
       "  </thead>\n",
       "  <tbody>\n",
       "    <tr>\n",
       "      <th>0</th>\n",
       "      <td>1</td>\n",
       "      <td>25</td>\n",
       "      <td>50000</td>\n",
       "      <td>500</td>\n",
       "    </tr>\n",
       "    <tr>\n",
       "      <th>1</th>\n",
       "      <td>2</td>\n",
       "      <td>30</td>\n",
       "      <td>60000</td>\n",
       "      <td>550</td>\n",
       "    </tr>\n",
       "    <tr>\n",
       "      <th>2</th>\n",
       "      <td>3</td>\n",
       "      <td>35</td>\n",
       "      <td>70000</td>\n",
       "      <td>600</td>\n",
       "    </tr>\n",
       "    <tr>\n",
       "      <th>3</th>\n",
       "      <td>4</td>\n",
       "      <td>40</td>\n",
       "      <td>80000</td>\n",
       "      <td>700</td>\n",
       "    </tr>\n",
       "    <tr>\n",
       "      <th>4</th>\n",
       "      <td>5</td>\n",
       "      <td>45</td>\n",
       "      <td>90000</td>\n",
       "      <td>300</td>\n",
       "    </tr>\n",
       "    <tr>\n",
       "      <th>5</th>\n",
       "      <td>6</td>\n",
       "      <td>60</td>\n",
       "      <td>100000</td>\n",
       "      <td>250</td>\n",
       "    </tr>\n",
       "    <tr>\n",
       "      <th>6</th>\n",
       "      <td>7</td>\n",
       "      <td>55</td>\n",
       "      <td>110000</td>\n",
       "      <td>320</td>\n",
       "    </tr>\n",
       "    <tr>\n",
       "      <th>7</th>\n",
       "      <td>8</td>\n",
       "      <td>50</td>\n",
       "      <td>120000</td>\n",
       "      <td>800</td>\n",
       "    </tr>\n",
       "    <tr>\n",
       "      <th>8</th>\n",
       "      <td>9</td>\n",
       "      <td>65</td>\n",
       "      <td>130000</td>\n",
       "      <td>900</td>\n",
       "    </tr>\n",
       "    <tr>\n",
       "      <th>9</th>\n",
       "      <td>10</td>\n",
       "      <td>75</td>\n",
       "      <td>140000</td>\n",
       "      <td>1000</td>\n",
       "    </tr>\n",
       "  </tbody>\n",
       "</table>\n",
       "</div>"
      ],
      "text/plain": [
       "   CustomerID  Age  Income  PurchaseAmount\n",
       "0           1   25   50000             500\n",
       "1           2   30   60000             550\n",
       "2           3   35   70000             600\n",
       "3           4   40   80000             700\n",
       "4           5   45   90000             300\n",
       "5           6   60  100000             250\n",
       "6           7   55  110000             320\n",
       "7           8   50  120000             800\n",
       "8           9   65  130000             900\n",
       "9          10   75  140000            1000"
      ]
     },
     "execution_count": 55,
     "metadata": {},
     "output_type": "execute_result"
    }
   ],
   "source": [
    "df2= pd.read_excel(\"Dataset_Normaization.xlsx\")\n",
    "df2"
   ]
  },
  {
   "cell_type": "code",
   "execution_count": 56,
   "metadata": {},
   "outputs": [],
   "source": [
    "df2_normalized= df2.copy()"
   ]
  },
  {
   "cell_type": "code",
   "execution_count": 57,
   "metadata": {},
   "outputs": [],
   "source": [
    "columns= [\"Age\", \"Income\", \"PurchaseAmount\"]"
   ]
  },
  {
   "cell_type": "markdown",
   "metadata": {},
   "source": [
    "### 0/1 Normalization"
   ]
  },
  {
   "cell_type": "code",
   "execution_count": 58,
   "metadata": {},
   "outputs": [
    {
     "name": "stdout",
     "output_type": "stream",
     "text": [
      "25\n",
      "30\n",
      "35.0\n",
      "40.0\n",
      "45.0\n",
      "60.0\n",
      "55.0\n",
      "50.0\n",
      "65.0\n",
      "75.0\n",
      "50000\n",
      "60000\n",
      "70000.0\n",
      "80000.0\n",
      "90000.0\n",
      "100000.0\n",
      "110000.0\n",
      "120000.0\n",
      "130000.0\n",
      "140000.0\n",
      "500\n",
      "550.0\n",
      "600.0\n",
      "700.0\n",
      "300.0\n",
      "250.0\n",
      "320.0\n",
      "800.0\n",
      "900.0\n",
      "1000.0\n"
     ]
    },
    {
     "name": "stderr",
     "output_type": "stream",
     "text": [
      "C:\\Users\\ANANT TIWARI\\AppData\\Local\\Temp\\ipykernel_23264\\41993313.py:10: FutureWarning: Setting an item of incompatible dtype is deprecated and will raise in a future error of pandas. Value '0.1' has dtype incompatible with int64, please explicitly cast to a compatible dtype first.\n",
      "  df2_normalized[column][idx]=val\n",
      "C:\\Users\\ANANT TIWARI\\AppData\\Local\\Temp\\ipykernel_23264\\41993313.py:10: SettingWithCopyWarning: \n",
      "A value is trying to be set on a copy of a slice from a DataFrame\n",
      "\n",
      "See the caveats in the documentation: https://pandas.pydata.org/pandas-docs/stable/user_guide/indexing.html#returning-a-view-versus-a-copy\n",
      "  df2_normalized[column][idx]=val\n",
      "C:\\Users\\ANANT TIWARI\\AppData\\Local\\Temp\\ipykernel_23264\\41993313.py:10: SettingWithCopyWarning: \n",
      "A value is trying to be set on a copy of a slice from a DataFrame\n",
      "\n",
      "See the caveats in the documentation: https://pandas.pydata.org/pandas-docs/stable/user_guide/indexing.html#returning-a-view-versus-a-copy\n",
      "  df2_normalized[column][idx]=val\n",
      "C:\\Users\\ANANT TIWARI\\AppData\\Local\\Temp\\ipykernel_23264\\41993313.py:10: FutureWarning: Setting an item of incompatible dtype is deprecated and will raise in a future error of pandas. Value '0.1111111111111111' has dtype incompatible with int64, please explicitly cast to a compatible dtype first.\n",
      "  df2_normalized[column][idx]=val\n",
      "C:\\Users\\ANANT TIWARI\\AppData\\Local\\Temp\\ipykernel_23264\\41993313.py:10: SettingWithCopyWarning: \n",
      "A value is trying to be set on a copy of a slice from a DataFrame\n",
      "\n",
      "See the caveats in the documentation: https://pandas.pydata.org/pandas-docs/stable/user_guide/indexing.html#returning-a-view-versus-a-copy\n",
      "  df2_normalized[column][idx]=val\n",
      "C:\\Users\\ANANT TIWARI\\AppData\\Local\\Temp\\ipykernel_23264\\41993313.py:10: FutureWarning: Setting an item of incompatible dtype is deprecated and will raise in a future error of pandas. Value '0.3333333333333333' has dtype incompatible with int64, please explicitly cast to a compatible dtype first.\n",
      "  df2_normalized[column][idx]=val\n"
     ]
    }
   ],
   "source": [
    "for column in columns:\n",
    "    mx_column= max(df2_normalized[column].values)\n",
    "    mn_column=min(df2_normalized[column].values)\n",
    "    \n",
    "    for idx in range(len(df2_normalized[column])):\n",
    "        val= df2_normalized[column][idx]\n",
    "        print(val)\n",
    "        if mx_column-mn_column!=0:\n",
    "            val= (val-mn_column)/(mx_column-mn_column)\n",
    "            df2_normalized[column][idx]=val\n",
    "        else:\n",
    "            df2_normalized[column][idx]=0.5\n",
    "       "
   ]
  },
  {
   "cell_type": "code",
   "execution_count": 59,
   "metadata": {},
   "outputs": [
    {
     "name": "stdout",
     "output_type": "stream",
     "text": [
      "   CustomerID  Age    Income  PurchaseAmount\n",
      "0           1  0.0  0.000000        0.333333\n",
      "1           2  0.1  0.111111        0.400000\n",
      "2           3  0.2  0.222222        0.466667\n",
      "3           4  0.3  0.333333        0.600000\n",
      "4           5  0.4  0.444444        0.066667\n",
      "5           6  0.7  0.555556        0.000000\n",
      "6           7  0.6  0.666667        0.093333\n",
      "7           8  0.5  0.777778        0.733333\n",
      "8           9  0.8  0.888889        0.866667\n",
      "9          10  1.0  1.000000        1.000000\n"
     ]
    }
   ],
   "source": [
    "print(df2_normalized)"
   ]
  },
  {
   "cell_type": "markdown",
   "metadata": {},
   "source": [
    "### Normalization range(10,20)"
   ]
  },
  {
   "cell_type": "code",
   "execution_count": 62,
   "metadata": {},
   "outputs": [],
   "source": [
    "df2_normalized_range= df2.copy()\n",
    "min_range2=10\n",
    "max_range2=20"
   ]
  },
  {
   "cell_type": "code",
   "execution_count": 64,
   "metadata": {},
   "outputs": [
    {
     "name": "stderr",
     "output_type": "stream",
     "text": [
      "C:\\Users\\ANANT TIWARI\\AppData\\Local\\Temp\\ipykernel_23264\\1780949100.py:10: SettingWithCopyWarning: \n",
      "A value is trying to be set on a copy of a slice from a DataFrame\n",
      "\n",
      "See the caveats in the documentation: https://pandas.pydata.org/pandas-docs/stable/user_guide/indexing.html#returning-a-view-versus-a-copy\n",
      "  df2_normalized_range[column][idx]=val\n",
      "C:\\Users\\ANANT TIWARI\\AppData\\Local\\Temp\\ipykernel_23264\\1780949100.py:10: SettingWithCopyWarning: \n",
      "A value is trying to be set on a copy of a slice from a DataFrame\n",
      "\n",
      "See the caveats in the documentation: https://pandas.pydata.org/pandas-docs/stable/user_guide/indexing.html#returning-a-view-versus-a-copy\n",
      "  df2_normalized_range[column][idx]=val\n",
      "C:\\Users\\ANANT TIWARI\\AppData\\Local\\Temp\\ipykernel_23264\\1780949100.py:10: SettingWithCopyWarning: \n",
      "A value is trying to be set on a copy of a slice from a DataFrame\n",
      "\n",
      "See the caveats in the documentation: https://pandas.pydata.org/pandas-docs/stable/user_guide/indexing.html#returning-a-view-versus-a-copy\n",
      "  df2_normalized_range[column][idx]=val\n",
      "C:\\Users\\ANANT TIWARI\\AppData\\Local\\Temp\\ipykernel_23264\\1780949100.py:10: SettingWithCopyWarning: \n",
      "A value is trying to be set on a copy of a slice from a DataFrame\n",
      "\n",
      "See the caveats in the documentation: https://pandas.pydata.org/pandas-docs/stable/user_guide/indexing.html#returning-a-view-versus-a-copy\n",
      "  df2_normalized_range[column][idx]=val\n",
      "C:\\Users\\ANANT TIWARI\\AppData\\Local\\Temp\\ipykernel_23264\\1780949100.py:10: SettingWithCopyWarning: \n",
      "A value is trying to be set on a copy of a slice from a DataFrame\n",
      "\n",
      "See the caveats in the documentation: https://pandas.pydata.org/pandas-docs/stable/user_guide/indexing.html#returning-a-view-versus-a-copy\n",
      "  df2_normalized_range[column][idx]=val\n",
      "C:\\Users\\ANANT TIWARI\\AppData\\Local\\Temp\\ipykernel_23264\\1780949100.py:10: SettingWithCopyWarning: \n",
      "A value is trying to be set on a copy of a slice from a DataFrame\n",
      "\n",
      "See the caveats in the documentation: https://pandas.pydata.org/pandas-docs/stable/user_guide/indexing.html#returning-a-view-versus-a-copy\n",
      "  df2_normalized_range[column][idx]=val\n",
      "C:\\Users\\ANANT TIWARI\\AppData\\Local\\Temp\\ipykernel_23264\\1780949100.py:10: SettingWithCopyWarning: \n",
      "A value is trying to be set on a copy of a slice from a DataFrame\n",
      "\n",
      "See the caveats in the documentation: https://pandas.pydata.org/pandas-docs/stable/user_guide/indexing.html#returning-a-view-versus-a-copy\n",
      "  df2_normalized_range[column][idx]=val\n",
      "C:\\Users\\ANANT TIWARI\\AppData\\Local\\Temp\\ipykernel_23264\\1780949100.py:10: SettingWithCopyWarning: \n",
      "A value is trying to be set on a copy of a slice from a DataFrame\n",
      "\n",
      "See the caveats in the documentation: https://pandas.pydata.org/pandas-docs/stable/user_guide/indexing.html#returning-a-view-versus-a-copy\n",
      "  df2_normalized_range[column][idx]=val\n",
      "C:\\Users\\ANANT TIWARI\\AppData\\Local\\Temp\\ipykernel_23264\\1780949100.py:10: SettingWithCopyWarning: \n",
      "A value is trying to be set on a copy of a slice from a DataFrame\n",
      "\n",
      "See the caveats in the documentation: https://pandas.pydata.org/pandas-docs/stable/user_guide/indexing.html#returning-a-view-versus-a-copy\n",
      "  df2_normalized_range[column][idx]=val\n",
      "C:\\Users\\ANANT TIWARI\\AppData\\Local\\Temp\\ipykernel_23264\\1780949100.py:10: SettingWithCopyWarning: \n",
      "A value is trying to be set on a copy of a slice from a DataFrame\n",
      "\n",
      "See the caveats in the documentation: https://pandas.pydata.org/pandas-docs/stable/user_guide/indexing.html#returning-a-view-versus-a-copy\n",
      "  df2_normalized_range[column][idx]=val\n"
     ]
    }
   ],
   "source": [
    "for column in columns:\n",
    "    mx_column= max(df2_normalized_range[column].values)\n",
    "    mn_column=min(df2_normalized_range[column].values)\n",
    "    \n",
    "    for idx in range(len(df2_normalized_range[column])):\n",
    "        \n",
    "        val= df2_normalized_range[column][idx]\n",
    "        if mx_column-mn_column!=0:\n",
    "            val= ((val-mn_column)*(max_range2-min_range2))/(mx_column-mn_column)+min_range2\n",
    "            df2_normalized_range[column][idx]=val\n",
    "        else:\n",
    "            df2_normalized_range[column][idx]=(max_range2+min_range2)/2\n",
    "       "
   ]
  },
  {
   "cell_type": "code",
   "execution_count": 65,
   "metadata": {},
   "outputs": [
    {
     "name": "stdout",
     "output_type": "stream",
     "text": [
      "   CustomerID  Age     Income  PurchaseAmount\n",
      "0           1   10  10.000000       13.333333\n",
      "1           2   11  11.111111       14.000000\n",
      "2           3   12  12.222222       14.666667\n",
      "3           4   13  13.333333       16.000000\n",
      "4           5   14  14.444444       10.666667\n",
      "5           6   17  15.555556       10.000000\n",
      "6           7   16  16.666667       10.933333\n",
      "7           8   15  17.777778       17.333333\n",
      "8           9   18  18.888889       18.666667\n",
      "9          10   20  20.000000       20.000000\n"
     ]
    }
   ],
   "source": [
    "print(df2_normalized_range)"
   ]
  }
 ],
 "metadata": {
  "kernelspec": {
   "display_name": "Python 3",
   "language": "python",
   "name": "python3"
  },
  "language_info": {
   "codemirror_mode": {
    "name": "ipython",
    "version": 3
   },
   "file_extension": ".py",
   "mimetype": "text/x-python",
   "name": "python",
   "nbconvert_exporter": "python",
   "pygments_lexer": "ipython3",
   "version": "3.11.5"
  }
 },
 "nbformat": 4,
 "nbformat_minor": 2
}
